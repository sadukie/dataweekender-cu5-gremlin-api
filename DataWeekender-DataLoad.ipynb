{
    "cells": [
        {
            "cell_type": "code",
            "execution_count": null,
            "metadata": {
                "azdata_cell_guid": "0a2d455c-4280-4797-8e7b-1ae7c1359ec0",
                "language": "python"
            },
            "outputs": [],
            "source": [
                "# Install the dependencies\n",
                "!pip install gremlinpython"
            ]
        },
        {
            "cell_type": "code",
            "execution_count": null,
            "metadata": {
                "azdata_cell_guid": "435aa88c-e98f-49bd-a4a3-b36b71714d35",
                "language": "python"
            },
            "outputs": [],
            "source": [
                "# Read in the Excel file\n",
                "import pandas as pd\n",
                "df = pd.read_excel(\"DataWeekender-SessionList.xlsx\",converters={'Time':str})\n",
                "df.info()"
            ]
        },
        {
            "cell_type": "code",
            "execution_count": null,
            "metadata": {
                "azdata_cell_guid": "f293b342-6881-4602-a201-cb329c88c00e",
                "language": "python"
            },
            "outputs": [],
            "source": [
                "# Look at unique labels\n",
                "df.Label.unique()"
            ]
        },
        {
            "cell_type": "code",
            "execution_count": null,
            "metadata": {
                "azdata_cell_guid": "0a5eb7c8-816e-4198-926d-b451a5ca71fc",
                "language": "python"
            },
            "outputs": [],
            "source": [
                "# Build the vertices (nodes) - \n",
                "VERTICES = []\n",
                "EDGES = []"
            ]
        },
        {
            "cell_type": "code",
            "execution_count": null,
            "metadata": {
                "azdata_cell_guid": "a8febfca-707d-4e53-8a44-c68841771041",
                "language": "python",
                "tags": []
            },
            "outputs": [],
            "source": [
                "# Anything not a talk has a name and a type\n",
                "non_talks = df[df.Label!='Talk']\n",
                "for index,non_talk in non_talks.iterrows():\n",
                "    VERTICES.append(f\"g.addV('{non_talk.Label}').property('name','{non_talk['Node Name']}').property('type','{non_talk.Label}')\")"
            ]
        },
        {
            "cell_type": "code",
            "execution_count": null,
            "metadata": {
                "azdata_cell_guid": "5c42366c-414c-4bdd-81d1-748743a5c85e",
                "language": "python"
            },
            "outputs": [],
            "source": [
                "# Talks are split in Excel with multiple lines for Topic\n",
                "# So clean them up to be distinct vertices\n",
                "talks = df[df.Label=='Talk']\n",
                "talks = talks.drop(columns=['Topic'])\n",
                "talks = talks.drop_duplicates()\n",
                "# Talks have name, track, and time\n",
                "for index,talk in talks.iterrows():\n",
                "    VERTICES.append(f\"g.addV('Talk').property('name','{talk['Node Name']}').property('type','Talk').property('Track',{talk['Track']}).property('Time','{talk['Time']}')\")"
            ]
        },
        {
            "cell_type": "code",
            "execution_count": null,
            "metadata": {
                "azdata_cell_guid": "df528a4e-cdf8-4018-b26a-d7dd24e6f9a0",
                "language": "python"
            },
            "outputs": [],
            "source": [
                "# Uncomment the line below to look at the Gremlin for adding vertices\n",
                "# VERTICES"
            ]
        },
        {
            "cell_type": "code",
            "execution_count": null,
            "metadata": {
                "azdata_cell_guid": "159752f9-0ebe-4a27-9183-d70b29c8f185",
                "language": "python"
            },
            "outputs": [],
            "source": [
                "# Build the relationships\n",
                "EDGES.append(\"g.V().has('name','You').addE('interested in').to(g.V().hasLabel('Topic').has('name','Azure')\")"
            ]
        },
        {
            "cell_type": "code",
            "execution_count": null,
            "metadata": {
                "azdata_cell_guid": "c968997e-3817-4489-8c32-7f520a8a65e0",
                "language": "python"
            },
            "outputs": [],
            "source": [
                "# Add DataWeekender to topics\n",
                "topics = df[df.Label=='Topic']\n",
                "for index, topic in topics.iterrows():\n",
                "    EDGES.append(f\"g.V().has('name','DataWeekender').addE('covers').to(g.V().hasLabel('Topic').has('name','{topic['Node Name']}')\")"
            ]
        },
        {
            "cell_type": "code",
            "execution_count": null,
            "metadata": {
                "azdata_cell_guid": "95a5116e-9f5e-4e04-991c-a8c30b4d21cf",
                "language": "python"
            },
            "outputs": [],
            "source": [
                "# Talks with Topics\n",
                "talks_with_topics = df[pd.notnull(df['Topic'])]\n",
                "for index, talk in talks_with_topics.iterrows():\n",
                "    EDGES.append(f\"g.V().hasLabel('Topic').has('name','{talk['Topic']}').addE('contains').to(g.V().hasLabel('Talk').has('name','{talk['Node Name']}'))\")"
            ]
        },
        {
            "cell_type": "code",
            "execution_count": null,
            "metadata": {
                "azdata_cell_guid": "cbf478ea-7765-4c9c-a433-e5dded4bcb8b",
                "language": "python"
            },
            "outputs": [],
            "source": [
                "# Uncomment the line below to look at the Gremlin for adding edges\n",
                "# EDGES"
            ]
        },
        {
            "cell_type": "code",
            "execution_count": null,
            "metadata": {
                "azdata_cell_guid": "4c1410de-5376-4b4b-8346-876e520f90e9",
                "language": "python",
                "tags": []
            },
            "outputs": [],
            "source": [
                "from gremlin_python.driver import client\n",
                "# CONFIG STUFF - YOU NEED TO EDIT THIS\n",
                "# Make sure to create your Cosmos DB Gremlin API endpoint at https://portal.azure.com\n",
                "# Create the Database and Collection in the portal\n",
                "# This script will populate the data that we use in our demo\n",
                "ENDPOINT = 'YOUR_ENDPOINT.gremlin.cosmosdb.azure.com'\n",
                "PRIMARY_KEY = 'YOUR_PRIMARY_KEY'\n",
                "DATABASE = 'YOUR_DATABASE_NAME'\n",
                "COLLECTION = 'YOUR_COLLECTION_NAME'"
            ]
        },
        {
            "cell_type": "code",
            "execution_count": null,
            "metadata": {
                "azdata_cell_guid": "ff84541d-404d-444d-a09a-3f2929943320",
                "language": "python"
            },
            "outputs": [],
            "source": [
                "# Need the nest_asyncio to help with Jupyter Notebook handling this\n",
                "import nest_asyncio\n",
                "nest_asyncio.apply()\n",
                "\n",
                "# Now let's do this\n",
                "# This code is based off of this blog post: https://www.taygan.co/blog/2018/01/23/azure-cosmos-db-graph-api-with-python\n",
                "from gremlin_python.driver import client, serializer\n",
                "\n",
                "def cleanup_graph(gremlin_client):    \n",
                "    callback = gremlin_client.submitAsync(\"g.V().drop()\")\n",
                "    if callback.result() is not None:\n",
                "        print(\"Cleaned up the graph!\")\n",
                "\n",
                "def insert_vertices(gremlin_client):\n",
                "    for vertex in VERTICES:\n",
                "        callback = gremlin_client.submitAsync(vertex)\n",
                "        if callback.result() is None:            \n",
                "            print(\"Something went wrong with this query: {0}\".format(vertex))\n",
                "\n",
                "def insert_edges(gremlin_client):\n",
                "    for edge in EDGES:\n",
                "        callback = gremlin_client.submitAsync(edge)\n",
                "        if callback.result() is None:            \n",
                "            print(\"Something went wrong with this query:\\n{0}\".format(edge))\n",
                "\n",
                "def handler():\n",
                "    # Initialize client\n",
                "    print('Initializing client...')\n",
                "    # GraphSON V2 is called out here, as V3 is not supported yet\n",
                "    gremlin_client = client.Client(\n",
                "        'wss://' + ENDPOINT + ':443/', 'g',\n",
                "        username=\"/dbs/\" + DATABASE + \"/colls/\" + COLLECTION,\n",
                "        password=PRIMARY_KEY,\n",
                "        message_serializer=serializer.GraphSONSerializersV2d0()\n",
                "    )\n",
                "    print('Client initialized!')\n",
                "\n",
                "    # Purge graph\n",
                "    cleanup_graph(gremlin_client)\n",
                "\n",
                "    # Insert vertices (nodes)\n",
                "    insert_vertices(gremlin_client)\n",
                "\n",
                "    # Insert edges (relationships)\n",
                "    insert_edges(gremlin_client)\n",
                "\n",
                "    print('Finished!')\n",
                "\n",
                "if __name__ == '__main__':\n",
                "    handler()"
            ]
        }
    ],
    "metadata": {
        "kernelspec": {
            "display_name": "Python 3",
            "language": "python",
            "name": "python3"
        },
        "language_info": {
            "codemirror_mode": {
                "name": "ipython",
                "version": 3
            },
            "file_extension": ".py",
            "mimetype": "text/x-python",
            "name": "python",
            "nbconvert_exporter": "python",
            "pygments_lexer": "ipython3",
            "version": "3.8.10"
        }
    },
    "nbformat": 4,
    "nbformat_minor": 2
}
